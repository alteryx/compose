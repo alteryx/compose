{
 "cells": [
  {
   "cell_type": "markdown",
   "metadata": {},
   "source": [
    "# Predict Next Purchase\n",
    "\n",
    "In this tutorial, build a machine learning application that predicts whether customers will purchase a product within the next shopping period. This application is structured into three important steps:\n",
    "\n",
    "- Prediction Engineering\n",
    "- Feature Engineering\n",
    "- Machine Learning\n",
    "\n",
    "In the first step, you generate new labels from the data by using [Compose](https://compose.alteryx.com/). In the second step, you generate features for the labels by using [Featuretools](https://featuretools.alteryx.com/). In the third step, you search for the best machine learning pipeline by using [EvalML](https://evalml.alteryx.com/). After working through these steps, you should understand how to build machine learning applications for real-world problems like predicting consumer spending.\n",
    "\n",
    "**Note: In order to run this example, you should have Featuretools 1.4.0 or newer and EvalML 0.41.0 or newer installed.**"
   ]
  },
  {
   "cell_type": "code",
   "execution_count": null,
   "metadata": {},
   "outputs": [],
   "source": [
    "from demo.next_purchase import load_sample\n",
    "from matplotlib.pyplot import subplots\n",
    "import composeml as cp\n",
    "import featuretools as ft\n",
    "import evalml"
   ]
  },
  {
   "cell_type": "markdown",
   "metadata": {},
   "source": [
    "Use this historical data of online grocery orders provided by [Instacart](https://www.kaggle.com/c/instacart-market-basket-analysis/data)."
   ]
  },
  {
   "cell_type": "code",
   "execution_count": null,
   "metadata": {},
   "outputs": [],
   "source": [
    "df = load_sample()\n",
    "df.head()"
   ]
  },
  {
   "cell_type": "markdown",
   "metadata": {},
   "source": [
    "## Prediction Engineering\n",
    "\n",
    "> Will customers purchase a product within the next shopping period?\n",
    "\n",
    "In this prediction problem, there are two parameters:\n",
    "\n",
    "- The product that a customer can purchase.\n",
    "- The length of the shopping period.\n",
    "\n",
    "You can change these parameters to create different prediction problems. For example, will a customer purchase a banana within the next 3 days or an avocado within the next three weeks? These variations can be done by simply tweaking the parameters. This helps you explore different scenarios that are crucial for making better decisions.\n",
    "\n",
    "### Defining the Labeling Function\n",
    "\n",
    "Start by defining a labeling function that checks if a customer bought a given product. Make the product a parameter of the function. Our labeling function is used by a label maker to extract the training examples."
   ]
  },
  {
   "cell_type": "code",
   "execution_count": null,
   "metadata": {},
   "outputs": [],
   "source": [
    "def bought_product(ds, product_name):\n",
    "    return ds.product_name.str.contains(product_name).any()"
   ]
  },
  {
   "cell_type": "markdown",
   "metadata": {},
   "source": [
    "### Representing the Prediction Problem\n",
    "\n",
    "Represent the prediction problem by creating a label maker with the following parameters:\n",
    "\n",
    "- `target_dataframe_index` as the columns for the customer ID, since you want to process orders for each customer.\n",
    "- `labeling_function` as the function you defined previously.\n",
    "- `time_index` as the column for the order time. The shoppings periods are based on this time index.\n",
    "- `window_size` as the length of a shopping period. You can easily change this parameter to create variations of the prediction problem."
   ]
  },
  {
   "cell_type": "code",
   "execution_count": null,
   "metadata": {},
   "outputs": [],
   "source": [
    "lm = cp.LabelMaker(\n",
    "    target_dataframe_index=\"user_id\",\n",
    "    time_index=\"order_time\",\n",
    "    labeling_function=bought_product,\n",
    "    window_size=\"3d\",\n",
    ")"
   ]
  },
  {
   "cell_type": "markdown",
   "metadata": {},
   "source": [
    "### Finding the Training Examples\n",
    "\n",
    "Run a search to get the training examples by using the following parameters:\n",
    "\n",
    "- The grocery orders sorted by the order time, since the search expects the orders to be sorted chronologically. Otherwise, an error is raised.\n",
    "- `num_examples_per_instance` to find the number of training examples per customer. In this case, the search returns all existing examples.\n",
    "- `product_name` as the product to check for purchases. This parameter gets passed directly to the our labeling function.\n",
    "- `minimum_data` as the amount of data that is used to make features for the first training example."
   ]
  },
  {
   "cell_type": "code",
   "execution_count": null,
   "metadata": {},
   "outputs": [],
   "source": [
    "lt = lm.search(\n",
    "    df.sort_values(\"order_time\"),\n",
    "    num_examples_per_instance=-1,\n",
    "    product_name=\"Banana\",\n",
    "    minimum_data=\"3d\",\n",
    "    verbose=False,\n",
    ")\n",
    "\n",
    "lt.head()"
   ]
  },
  {
   "cell_type": "markdown",
   "metadata": {},
   "source": [
    "The output from the search is a label times table with three columns:\n",
    "\n",
    "- The customer ID associated to the orders. There can be many training examples generated from each customer.\n",
    "- The start time of the shopping period. This is also the cutoff time for building features. Only data that existed beforehand is valid to use for predictions.\n",
    "- Whether the product was purchased during the shopping period window. This is calculated by our labeling function.\n",
    "\n",
    "As a helpful reference, you can print out the search settings that were used to generate these labels. The description also shows us the label distribution which we can check for imbalanced labels."
   ]
  },
  {
   "cell_type": "code",
   "execution_count": null,
   "metadata": {},
   "outputs": [],
   "source": [
    "lt.describe()"
   ]
  },
  {
   "cell_type": "markdown",
   "metadata": {},
   "source": [
    "You can get a better look at the labels by plotting the distribution and cumulative count across time."
   ]
  },
  {
   "cell_type": "code",
   "execution_count": null,
   "metadata": {},
   "outputs": [],
   "source": [
    "%matplotlib inline\n",
    "fig, ax = subplots(nrows=2, ncols=1, figsize=(6, 8))\n",
    "lt.plot.distribution(ax=ax[0])\n",
    "lt.plot.count_by_time(ax=ax[1])\n",
    "fig.tight_layout(pad=2)"
   ]
  },
  {
   "cell_type": "markdown",
   "metadata": {},
   "source": [
    "## Feature Engineering\n",
    "\n",
    "In the previous step, you generated the labels. The next step is to generate features.\n",
    "\n",
    "### Representing the Data\n",
    "\n",
    "Start by representing the data with an EntitySet. That way, you can generate features based on the relational structure of the dataset. You currently have a single table of orders where one customer can have many orders. This one-to-many relationship can be represented by normalizing a customer dataframe. The same can be done for other one-to-many relationships like aisle-to-products. Because you want to make predictions based on the customer, you should use this customer dataframe as the target for generating features."
   ]
  },
  {
   "cell_type": "code",
   "execution_count": null,
   "metadata": {},
   "outputs": [],
   "source": [
    "es = ft.EntitySet(\"instacart\")\n",
    "\n",
    "es.add_dataframe(\n",
    "    dataframe=df.reset_index(),\n",
    "    dataframe_name=\"order_products\",\n",
    "    time_index=\"order_time\",\n",
    "    index=\"id\",\n",
    ")\n",
    "\n",
    "es.normalize_dataframe(\n",
    "    base_dataframe_name=\"order_products\",\n",
    "    new_dataframe_name=\"orders\",\n",
    "    index=\"order_id\",\n",
    "    additional_columns=[\"user_id\"],\n",
    "    make_time_index=False,\n",
    ")\n",
    "\n",
    "es.normalize_dataframe(\n",
    "    base_dataframe_name=\"orders\",\n",
    "    new_dataframe_name=\"customers\",\n",
    "    index=\"user_id\",\n",
    "    make_time_index=False,\n",
    ")\n",
    "\n",
    "es.normalize_dataframe(\n",
    "    base_dataframe_name=\"order_products\",\n",
    "    new_dataframe_name=\"products\",\n",
    "    index=\"product_id\",\n",
    "    additional_columns=[\"aisle_id\", \"department_id\"],\n",
    "    make_time_index=False,\n",
    ")\n",
    "\n",
    "es.normalize_dataframe(\n",
    "    base_dataframe_name=\"products\",\n",
    "    new_dataframe_name=\"aisles\",\n",
    "    index=\"aisle_id\",\n",
    "    additional_columns=[\"department_id\"],\n",
    "    make_time_index=False,\n",
    ")\n",
    "\n",
    "es.normalize_dataframe(\n",
    "    base_dataframe_name=\"aisles\",\n",
    "    new_dataframe_name=\"departments\",\n",
    "    index=\"department_id\",\n",
    "    make_time_index=False,\n",
    ")\n",
    "\n",
    "es.add_interesting_values(\n",
    "    dataframe_name=\"order_products\",\n",
    "    values={\"department\": [\"produce\"], \"product_name\": [\"Banana\"]},\n",
    ")\n",
    "es.plot()"
   ]
  },
  {
   "cell_type": "markdown",
   "metadata": {},
   "source": [
    "### Calculating the Features\n",
    "\n",
    "Now you can generate features by using a method called Deep Feature Synthesis (DFS). That method automatically builds features by stacking and applying mathematical operations called primitives across relationships in an entityset. The more structured an entityset is, the better DFS can leverage the relationships to generate better features. Let’s run DFS using the following parameters:\n",
    "\n",
    "- `entity_set` as the entityset we structured previously.\n",
    "- `target_dataframe_name` as the customer dataframe.\n",
    "- `cutoff_time` as the label times that we generated previously. The label values are appended to the feature matrix."
   ]
  },
  {
   "cell_type": "code",
   "execution_count": null,
   "metadata": {},
   "outputs": [],
   "source": [
    "fm, fd = ft.dfs(\n",
    "    entityset=es,\n",
    "    target_dataframe_name=\"customers\",\n",
    "    cutoff_time=lt,\n",
    "    cutoff_time_in_index=True,\n",
    "    include_cutoff_time=False,\n",
    "    verbose=False,\n",
    ")\n",
    "\n",
    "fm.head()"
   ]
  },
  {
   "cell_type": "markdown",
   "metadata": {},
   "source": [
    "There are two outputs from DFS: a feature matrix and feature definitions. The feature matrix is a table that contains the feature values with the corresponding labels based on the cutoff times. Feature definitions are features in a list that can be stored and reused later to calculate the same set of features on future data.\n",
    "\n",
    "## Machine Learning\n",
    "\n",
    "In the previous steps, you generated the labels and features. The final step is to build the machine learning pipeline.\n",
    "\n",
    "### Splitting the Data\n",
    "\n",
    "Start by extracting the labels from the feature matrix and splitting the data into a training set and a holdout set."
   ]
  },
  {
   "cell_type": "code",
   "execution_count": null,
   "metadata": {},
   "outputs": [],
   "source": [
    "fm.reset_index(drop=True, inplace=True)\n",
    "y = fm.ww.pop(\"bought_product\")\n",
    "\n",
    "splits = evalml.preprocessing.split_data(\n",
    "    X=fm,\n",
    "    y=y,\n",
    "    test_size=0.2,\n",
    "    random_seed=0,\n",
    "    problem_type=\"binary\",\n",
    ")\n",
    "\n",
    "X_train, X_holdout, y_train, y_holdout = splits"
   ]
  },
  {
   "cell_type": "markdown",
   "metadata": {},
   "source": [
    "### Finding the Best Model\n",
    "\n",
    "Run a search on the training set to find the best machine learning model. During the search process, predictions from several different pipelines are evaluated."
   ]
  },
  {
   "cell_type": "code",
   "execution_count": null,
   "metadata": {},
   "outputs": [],
   "source": [
    "automl = evalml.AutoMLSearch(\n",
    "    X_train=fm,\n",
    "    y_train=y,\n",
    "    problem_type=\"binary\",\n",
    "    objective=\"f1\",\n",
    "    random_seed=0,\n",
    "    allowed_model_families=[\"catboost\", \"random_forest\"],\n",
    "    max_iterations=3,\n",
    ")\n",
    "\n",
    "automl.search()"
   ]
  },
  {
   "cell_type": "markdown",
   "metadata": {},
   "source": [
    "Once the search is complete, you can print out information about the best pipeline found, like the parameters in each component."
   ]
  },
  {
   "cell_type": "code",
   "execution_count": null,
   "metadata": {},
   "outputs": [],
   "source": [
    "automl.best_pipeline.describe()\n",
    "automl.best_pipeline.graph()"
   ]
  },
  {
   "cell_type": "markdown",
   "metadata": {},
   "source": [
    "Score the model performance by evaluating predictions on the holdout set."
   ]
  },
  {
   "cell_type": "code",
   "execution_count": null,
   "metadata": {},
   "outputs": [],
   "source": [
    "best_pipeline = automl.best_pipeline.fit(X_train, y_train)\n",
    "\n",
    "score = best_pipeline.score(\n",
    "    X=X_holdout,\n",
    "    y=y_holdout,\n",
    "    objectives=[\"f1\"],\n",
    ")\n",
    "\n",
    "dict(score)"
   ]
  },
  {
   "cell_type": "markdown",
   "metadata": {},
   "source": [
    "From the pipeline, you can see which features are most important for predictions."
   ]
  },
  {
   "cell_type": "code",
   "execution_count": null,
   "metadata": {},
   "outputs": [],
   "source": [
    "feature_importance = best_pipeline.feature_importance\n",
    "feature_importance = feature_importance.set_index(\"feature\")[\"importance\"]\n",
    "top_k = feature_importance.abs().sort_values().tail(20).index\n",
    "feature_importance[top_k].plot.barh(figsize=(8, 8), fontsize=14, width=0.7);"
   ]
  },
  {
   "cell_type": "markdown",
   "metadata": {},
   "source": [
    "### Making Predictions\n",
    "\n",
    "You are ready to make predictions with your trained model. Start by calculating the same set of features by using the feature definitions. Also, use a cutoff time based on the latest information available in the dataset."
   ]
  },
  {
   "cell_type": "code",
   "execution_count": null,
   "metadata": {},
   "outputs": [],
   "source": [
    "fm = ft.calculate_feature_matrix(\n",
    "    features=fd,\n",
    "    entityset=es,\n",
    "    cutoff_time=ft.pd.Timestamp(\"2015-03-02\"),\n",
    "    cutoff_time_in_index=True,\n",
    "    verbose=False,\n",
    ")\n",
    "\n",
    "fm.head()"
   ]
  },
  {
   "cell_type": "markdown",
   "metadata": {},
   "source": [
    "Predict whether customers will purchase bananas within the next 3 days."
   ]
  },
  {
   "cell_type": "code",
   "execution_count": null,
   "metadata": {},
   "outputs": [],
   "source": [
    "y_pred = best_pipeline.predict(fm)\n",
    "y_pred = y_pred.values\n",
    "\n",
    "prediction = fm[[]]\n",
    "prediction[\"bought_product (estimate)\"] = y_pred\n",
    "prediction.head()"
   ]
  },
  {
   "cell_type": "markdown",
   "metadata": {},
   "source": [
    "### Next Steps\n",
    "\n",
    "You have completed this tutorial. You can revisit each step to explore and fine-tune the model using different parameters until it is ready for production. For more information about how to work with the features produced by Featuretools, take a look at [the Featuretools documentation](https://featuretools.alteryx.com/). For more information about how to work with the models produced by EvalML, take a look at [the EvalML documentation](https://evalml.alteryx.com/)."
   ]
  }
 ],
 "metadata": {
  "jupytext": {
   "cell_metadata_filter": "-all",
   "main_language": "python",
   "notebook_metadata_filter": "-all"
  },
  "kernelspec": {
   "display_name": "Python 3.10.6 64-bit ('3.10.6')",
   "language": "python",
   "name": "python3"
  },
  "language_info": {
   "codemirror_mode": {
    "name": "ipython",
    "version": 3
   },
   "file_extension": ".py",
   "mimetype": "text/x-python",
   "name": "python",
   "nbconvert_exporter": "python",
   "pygments_lexer": "ipython3",
   "version": "3.10.6"
  },
  "vscode": {
   "interpreter": {
    "hash": "175a0a3732e9eeea35e317863527a17b85ae672598d99ca4a71576ee9ad73d9c"
   }
  }
 },
 "nbformat": 4,
 "nbformat_minor": 4
}
