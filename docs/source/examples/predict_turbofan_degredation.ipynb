{
 "cells": [
  {
   "cell_type": "markdown",
   "metadata": {
    "raw_mimetype": "text/restructuredtext"
   },
   "source": [
    "# Predict Turbofan Degradation\n",
    "\n",
    "In this tutorial, build a machine learning application to predict turbofan engine degradation. This application is structured into three important steps:\n",
    "\n",
    "- Prediction Engineering\n",
    "- Feature Engineering\n",
    "- Machine Learning\n",
    "\n",
    "In the first step, create new labels from the data by using [Compose](https://compose.alteryx.com/). In the second step, generate features for the labels by using [Featuretools](https://featuretools.alteryx.com/). In the third step, search for the best machine learning pipeline using [EvalML](https://evalml.alteryx.com/). After working through these steps, you should understand how to build machine learning applications for real-world problems like forecasting demand.\n",
    "\n",
    "#### Note: In order to run this example, you should have Featuretools 1.4.0 or newer and EvalML 0.41.0 or newer installed."
   ]
  },
  {
   "cell_type": "code",
   "execution_count": 1,
   "metadata": {},
   "outputs": [],
   "source": [
    "from demo.turbofan_degredation import load_sample\n",
    "from matplotlib.pyplot import subplots\n",
    "import composeml as cp\n",
    "import featuretools as ft\n",
    "import evalml"
   ]
  },
  {
   "cell_type": "markdown",
   "metadata": {
    "raw_mimetype": "text/restructuredtext"
   },
   "source": [
    "Use a dataset provided by [NASA](https://www.kaggle.com/behrad3d/nasa-cmaps) simulating turbofan engine degradation. In the dataset, there is data about engines that have been monitored over time. Each engine had operational settings and sensor measurements recorded over a number of cycles. The remaining useful life (RUL) is the amount of cycles an engine has left before it needs maintenance. What makes this dataset special is that the engines run all the way until failure, giving us precise RUL information for every engine at every point in time. The model you build in this tutorial predicts RUL."
   ]
  },
  {
   "cell_type": "code",
   "execution_count": 2,
   "metadata": {},
   "outputs": [
    {
     "data": {
      "text/html": [
       "<div>\n",
       "<style scoped>\n",
       "    .dataframe tbody tr th:only-of-type {\n",
       "        vertical-align: middle;\n",
       "    }\n",
       "\n",
       "    .dataframe tbody tr th {\n",
       "        vertical-align: top;\n",
       "    }\n",
       "\n",
       "    .dataframe thead th {\n",
       "        text-align: right;\n",
       "    }\n",
       "</style>\n",
       "<table border=\"1\" class=\"dataframe\">\n",
       "  <thead>\n",
       "    <tr style=\"text-align: right;\">\n",
       "      <th></th>\n",
       "      <th>engine_no</th>\n",
       "      <th>time_in_cycles</th>\n",
       "      <th>operational_setting_1</th>\n",
       "      <th>operational_setting_2</th>\n",
       "      <th>operational_setting_3</th>\n",
       "      <th>sensor_measurement_1</th>\n",
       "      <th>sensor_measurement_2</th>\n",
       "      <th>sensor_measurement_3</th>\n",
       "      <th>sensor_measurement_4</th>\n",
       "      <th>sensor_measurement_5</th>\n",
       "      <th>...</th>\n",
       "      <th>sensor_measurement_13</th>\n",
       "      <th>sensor_measurement_14</th>\n",
       "      <th>sensor_measurement_15</th>\n",
       "      <th>sensor_measurement_16</th>\n",
       "      <th>sensor_measurement_17</th>\n",
       "      <th>sensor_measurement_18</th>\n",
       "      <th>sensor_measurement_19</th>\n",
       "      <th>sensor_measurement_20</th>\n",
       "      <th>sensor_measurement_21</th>\n",
       "      <th>time</th>\n",
       "    </tr>\n",
       "    <tr>\n",
       "      <th>id</th>\n",
       "      <th></th>\n",
       "      <th></th>\n",
       "      <th></th>\n",
       "      <th></th>\n",
       "      <th></th>\n",
       "      <th></th>\n",
       "      <th></th>\n",
       "      <th></th>\n",
       "      <th></th>\n",
       "      <th></th>\n",
       "      <th></th>\n",
       "      <th></th>\n",
       "      <th></th>\n",
       "      <th></th>\n",
       "      <th></th>\n",
       "      <th></th>\n",
       "      <th></th>\n",
       "      <th></th>\n",
       "      <th></th>\n",
       "      <th></th>\n",
       "      <th></th>\n",
       "    </tr>\n",
       "  </thead>\n",
       "  <tbody>\n",
       "    <tr>\n",
       "      <th>270</th>\n",
       "      <td>1</td>\n",
       "      <td>271</td>\n",
       "      <td>0.0010</td>\n",
       "      <td>0.0018</td>\n",
       "      <td>100.0</td>\n",
       "      <td>518.67</td>\n",
       "      <td>643.01</td>\n",
       "      <td>1591.11</td>\n",
       "      <td>1395.60</td>\n",
       "      <td>14.62</td>\n",
       "      <td>...</td>\n",
       "      <td>2388.12</td>\n",
       "      <td>8157.56</td>\n",
       "      <td>8.3141</td>\n",
       "      <td>0.03</td>\n",
       "      <td>393</td>\n",
       "      <td>2388</td>\n",
       "      <td>100.0</td>\n",
       "      <td>39.26</td>\n",
       "      <td>23.5280</td>\n",
       "      <td>2000-01-02 21:00:00</td>\n",
       "    </tr>\n",
       "    <tr>\n",
       "      <th>401</th>\n",
       "      <td>2</td>\n",
       "      <td>81</td>\n",
       "      <td>0.0004</td>\n",
       "      <td>0.0000</td>\n",
       "      <td>100.0</td>\n",
       "      <td>518.67</td>\n",
       "      <td>642.88</td>\n",
       "      <td>1581.74</td>\n",
       "      <td>1398.46</td>\n",
       "      <td>14.62</td>\n",
       "      <td>...</td>\n",
       "      <td>2387.98</td>\n",
       "      <td>8134.70</td>\n",
       "      <td>8.4092</td>\n",
       "      <td>0.03</td>\n",
       "      <td>392</td>\n",
       "      <td>2388</td>\n",
       "      <td>100.0</td>\n",
       "      <td>39.08</td>\n",
       "      <td>23.3215</td>\n",
       "      <td>2000-01-03 18:50:00</td>\n",
       "    </tr>\n",
       "    <tr>\n",
       "      <th>810</th>\n",
       "      <td>3</td>\n",
       "      <td>191</td>\n",
       "      <td>41.9983</td>\n",
       "      <td>0.8400</td>\n",
       "      <td>100.0</td>\n",
       "      <td>445.00</td>\n",
       "      <td>549.13</td>\n",
       "      <td>1352.21</td>\n",
       "      <td>1122.64</td>\n",
       "      <td>3.91</td>\n",
       "      <td>...</td>\n",
       "      <td>2388.18</td>\n",
       "      <td>8098.80</td>\n",
       "      <td>9.2919</td>\n",
       "      <td>0.02</td>\n",
       "      <td>330</td>\n",
       "      <td>2212</td>\n",
       "      <td>100.0</td>\n",
       "      <td>10.64</td>\n",
       "      <td>6.4525</td>\n",
       "      <td>2000-01-06 15:00:00</td>\n",
       "    </tr>\n",
       "    <tr>\n",
       "      <th>66</th>\n",
       "      <td>1</td>\n",
       "      <td>67</td>\n",
       "      <td>35.0054</td>\n",
       "      <td>0.8400</td>\n",
       "      <td>100.0</td>\n",
       "      <td>449.44</td>\n",
       "      <td>555.43</td>\n",
       "      <td>1351.45</td>\n",
       "      <td>1109.90</td>\n",
       "      <td>5.48</td>\n",
       "      <td>...</td>\n",
       "      <td>2387.89</td>\n",
       "      <td>8062.45</td>\n",
       "      <td>9.3215</td>\n",
       "      <td>0.02</td>\n",
       "      <td>333</td>\n",
       "      <td>2223</td>\n",
       "      <td>100.0</td>\n",
       "      <td>14.90</td>\n",
       "      <td>9.0315</td>\n",
       "      <td>2000-01-01 11:00:00</td>\n",
       "    </tr>\n",
       "    <tr>\n",
       "      <th>328</th>\n",
       "      <td>2</td>\n",
       "      <td>8</td>\n",
       "      <td>0.0023</td>\n",
       "      <td>0.0019</td>\n",
       "      <td>100.0</td>\n",
       "      <td>518.67</td>\n",
       "      <td>642.23</td>\n",
       "      <td>1576.51</td>\n",
       "      <td>1391.71</td>\n",
       "      <td>14.62</td>\n",
       "      <td>...</td>\n",
       "      <td>2388.07</td>\n",
       "      <td>8135.66</td>\n",
       "      <td>8.3894</td>\n",
       "      <td>0.03</td>\n",
       "      <td>392</td>\n",
       "      <td>2388</td>\n",
       "      <td>100.0</td>\n",
       "      <td>38.95</td>\n",
       "      <td>23.4243</td>\n",
       "      <td>2000-01-03 06:40:00</td>\n",
       "    </tr>\n",
       "  </tbody>\n",
       "</table>\n",
       "<p>5 rows × 27 columns</p>\n",
       "</div>"
      ],
      "text/plain": [
       "     engine_no  time_in_cycles  operational_setting_1  operational_setting_2  \\\n",
       "id                                                                             \n",
       "270          1             271                 0.0010                 0.0018   \n",
       "401          2              81                 0.0004                 0.0000   \n",
       "810          3             191                41.9983                 0.8400   \n",
       "66           1              67                35.0054                 0.8400   \n",
       "328          2               8                 0.0023                 0.0019   \n",
       "\n",
       "     operational_setting_3  sensor_measurement_1  sensor_measurement_2  \\\n",
       "id                                                                       \n",
       "270                  100.0                518.67                643.01   \n",
       "401                  100.0                518.67                642.88   \n",
       "810                  100.0                445.00                549.13   \n",
       "66                   100.0                449.44                555.43   \n",
       "328                  100.0                518.67                642.23   \n",
       "\n",
       "     sensor_measurement_3  sensor_measurement_4  sensor_measurement_5  ...  \\\n",
       "id                                                                     ...   \n",
       "270               1591.11               1395.60                 14.62  ...   \n",
       "401               1581.74               1398.46                 14.62  ...   \n",
       "810               1352.21               1122.64                  3.91  ...   \n",
       "66                1351.45               1109.90                  5.48  ...   \n",
       "328               1576.51               1391.71                 14.62  ...   \n",
       "\n",
       "     sensor_measurement_13  sensor_measurement_14  sensor_measurement_15  \\\n",
       "id                                                                         \n",
       "270                2388.12                8157.56                 8.3141   \n",
       "401                2387.98                8134.70                 8.4092   \n",
       "810                2388.18                8098.80                 9.2919   \n",
       "66                 2387.89                8062.45                 9.3215   \n",
       "328                2388.07                8135.66                 8.3894   \n",
       "\n",
       "     sensor_measurement_16  sensor_measurement_17  sensor_measurement_18  \\\n",
       "id                                                                         \n",
       "270                   0.03                    393                   2388   \n",
       "401                   0.03                    392                   2388   \n",
       "810                   0.02                    330                   2212   \n",
       "66                    0.02                    333                   2223   \n",
       "328                   0.03                    392                   2388   \n",
       "\n",
       "     sensor_measurement_19  sensor_measurement_20  sensor_measurement_21  \\\n",
       "id                                                                         \n",
       "270                  100.0                  39.26                23.5280   \n",
       "401                  100.0                  39.08                23.3215   \n",
       "810                  100.0                  10.64                 6.4525   \n",
       "66                   100.0                  14.90                 9.0315   \n",
       "328                  100.0                  38.95                23.4243   \n",
       "\n",
       "                   time  \n",
       "id                       \n",
       "270 2000-01-02 21:00:00  \n",
       "401 2000-01-03 18:50:00  \n",
       "810 2000-01-06 15:00:00  \n",
       "66  2000-01-01 11:00:00  \n",
       "328 2000-01-03 06:40:00  \n",
       "\n",
       "[5 rows x 27 columns]"
      ]
     },
     "execution_count": 2,
     "metadata": {},
     "output_type": "execute_result"
    }
   ],
   "source": [
    "df = load_sample()\n",
    "df.head()"
   ]
  },
  {
   "cell_type": "markdown",
   "metadata": {},
   "source": [
    "## Prediction Engineering\n",
    "\n",
    "> Which range is the RUL of a turbofan engine in?\n",
    "\n",
    "In this prediction problem, you want to group the RUL data into ranges, then predict which range the RUL is in. You can make variations in the ranges to create different prediction problems. For example, the ranges could be manually defined (0 - 150, 150 - 300, etc.) or based on the quartiles from historical observations. Bin the RUL to make variations, helping you explore different scenarios that are crucial for making better decisions.\n",
    "\n",
    "### Defining the Labeling Function\n",
    "\n",
    "Let’s start by defining the labeling function of an engine that calculates the RUL. Given that engines run all the way until failure, the RUL is just the remaining number of observations. Our labeling function will be used by a label maker to extract the training examples."
   ]
  },
  {
   "cell_type": "code",
   "execution_count": 3,
   "metadata": {},
   "outputs": [],
   "source": [
    "def rul(ds):\n",
    "    return len(ds) - 1"
   ]
  },
  {
   "cell_type": "markdown",
   "metadata": {
    "raw_mimetype": "text/restructuredtext"
   },
   "source": [
    "### Representing the Prediction Problem\n",
    "\n",
    "Represent the prediction problem by creating a label maker with the following parameters:\n",
    "\n",
    "- The `target_entity` as the column for the engine ID, since you want to process records for each engine.\n",
    "- The `labeling_function` as the function you defined previously.\n",
    "- The `time_index` as the column for the event time."
   ]
  },
  {
   "cell_type": "code",
   "execution_count": 4,
   "metadata": {},
   "outputs": [],
   "source": [
    "lm = cp.LabelMaker(\n",
    "    target_entity='engine_no',\n",
    "    labeling_function=rul,\n",
    "    time_index='time',\n",
    ")"
   ]
  },
  {
   "cell_type": "markdown",
   "metadata": {
    "raw_mimetype": "text/restructuredtext"
   },
   "source": [
    "### Finding the Training Examples\n",
    "\n",
    "Run a search to get the training examples by using the following parameters:\n",
    "\n",
    "- The records sorted by the event time, since the search expects the records to be sorted chronologically. Otherwise, an error occurs.\n",
    "- `num_examples_per_instance` as the number of training examples to find for each engine.\n",
    "- `minimum_data` as the amount of data to use to make features for the first training example.\n",
    "- `gap` as the number of rows to skip between examples. This is done to cover different points in time of an engine.\n",
    "\n",
    "You can easily tweak these parameters and run more searches for training examples as the requirements of our model change."
   ]
  },
  {
   "cell_type": "code",
   "execution_count": 5,
   "metadata": {},
   "outputs": [
    {
     "data": {
      "text/html": [
       "<div>\n",
       "<style scoped>\n",
       "    .dataframe tbody tr th:only-of-type {\n",
       "        vertical-align: middle;\n",
       "    }\n",
       "\n",
       "    .dataframe tbody tr th {\n",
       "        vertical-align: top;\n",
       "    }\n",
       "\n",
       "    .dataframe thead th {\n",
       "        text-align: right;\n",
       "    }\n",
       "</style>\n",
       "<table border=\"1\" class=\"dataframe\">\n",
       "  <thead>\n",
       "    <tr style=\"text-align: right;\">\n",
       "      <th></th>\n",
       "      <th>engine_no</th>\n",
       "      <th>time</th>\n",
       "      <th>rul</th>\n",
       "    </tr>\n",
       "  </thead>\n",
       "  <tbody>\n",
       "    <tr>\n",
       "      <th>0</th>\n",
       "      <td>1</td>\n",
       "      <td>2000-01-01 02:10:00</td>\n",
       "      <td>153</td>\n",
       "    </tr>\n",
       "    <tr>\n",
       "      <th>1</th>\n",
       "      <td>1</td>\n",
       "      <td>2000-01-01 10:20:00</td>\n",
       "      <td>133</td>\n",
       "    </tr>\n",
       "    <tr>\n",
       "      <th>2</th>\n",
       "      <td>1</td>\n",
       "      <td>2000-01-01 15:30:00</td>\n",
       "      <td>113</td>\n",
       "    </tr>\n",
       "    <tr>\n",
       "      <th>3</th>\n",
       "      <td>1</td>\n",
       "      <td>2000-01-02 00:20:00</td>\n",
       "      <td>93</td>\n",
       "    </tr>\n",
       "    <tr>\n",
       "      <th>4</th>\n",
       "      <td>1</td>\n",
       "      <td>2000-01-02 06:00:00</td>\n",
       "      <td>73</td>\n",
       "    </tr>\n",
       "  </tbody>\n",
       "</table>\n",
       "</div>"
      ],
      "text/plain": [
       "   engine_no                time  rul\n",
       "0          1 2000-01-01 02:10:00  153\n",
       "1          1 2000-01-01 10:20:00  133\n",
       "2          1 2000-01-01 15:30:00  113\n",
       "3          1 2000-01-02 00:20:00   93\n",
       "4          1 2000-01-02 06:00:00   73"
      ]
     },
     "execution_count": 5,
     "metadata": {},
     "output_type": "execute_result"
    }
   ],
   "source": [
    "lt = lm.search(\n",
    "    df.sort_values('time'),\n",
    "    num_examples_per_instance=20,\n",
    "    minimum_data=5,\n",
    "    gap=20,\n",
    "    verbose=False,\n",
    ")\n",
    "\n",
    "lt.head()"
   ]
  },
  {
   "cell_type": "markdown",
   "metadata": {
    "raw_mimetype": "text/restructuredtext"
   },
   "source": [
    "The output from the search is a label times table with three columns:\n",
    "\n",
    "- The engine ID associated to the records. There can be many training examples generated from each engine.\n",
    "- The event time of the engine. This is also known as a cutoff time for building features. Only data that existed beforehand is valid to use for predictions.\n",
    "- The value of the RUL. This is calculated by the labeling function.\n",
    "\n",
    "At this point, you only have continuous values of the RUL. As a helpful reference, you can print out the search settings that were used to generate these labels."
   ]
  },
  {
   "cell_type": "code",
   "execution_count": 6,
   "metadata": {},
   "outputs": [
    {
     "name": "stdout",
     "output_type": "stream",
     "text": [
      "Label Distribution\n",
      "------------------\n",
      "count     22.000000\n",
      "mean      75.045455\n",
      "std       43.795496\n",
      "min        6.000000\n",
      "25%       37.750000\n",
      "50%       74.000000\n",
      "75%      111.250000\n",
      "max      153.000000\n",
      "\n",
      "\n",
      "Settings\n",
      "--------\n",
      "gap                                  20\n",
      "maximum_data                       None\n",
      "minimum_data                          5\n",
      "num_examples_per_instance            20\n",
      "target_column                       rul\n",
      "target_entity                 engine_no\n",
      "target_type                  continuous\n",
      "window_size                        None\n",
      "\n",
      "\n",
      "Transforms\n",
      "----------\n",
      "No transforms applied\n",
      "\n"
     ]
    }
   ],
   "source": [
    "lt.describe()"
   ]
  },
  {
   "cell_type": "markdown",
   "metadata": {},
   "source": [
    "You can also get a better look at the values by plotting the distribution and the cumulative count across time."
   ]
  },
  {
   "cell_type": "code",
   "execution_count": 7,
   "metadata": {},
   "outputs": [
    {
     "data": {
      "image/png": "[encoded data removed]",
      "text/plain": [
       "<Figure size 432x576 with 2 Axes>"
      ]
     },
     "metadata": {
      "needs_background": "light"
     },
     "output_type": "display_data"
    }
   ],
   "source": [
    "%matplotlib inline\n",
    "fig, ax = subplots(nrows=2, ncols=1, figsize=(6, 8))\n",
    "lt.plot.distribution(ax=ax[0])\n",
    "lt.plot.count_by_time(ax=ax[1])\n",
    "fig.tight_layout(pad=2)"
   ]
  },
  {
   "cell_type": "markdown",
   "metadata": {
    "raw_mimetype": "text/restructuredtext"
   },
   "source": [
    "With the continuous values, you can explore different ranges without running the search again. In this case, use quartiles to bin the values into ranges."
   ]
  },
  {
   "cell_type": "code",
   "execution_count": 8,
   "metadata": {},
   "outputs": [],
   "source": [
    "lt = lt.bin(4, quantiles=True, precision=0)"
   ]
  },
  {
   "cell_type": "markdown",
   "metadata": {
    "raw_mimetype": "text/restructuredtext"
   },
   "source": [
    "When you print out the settings again, you can now see that the description of the labels has been updated and reflects the latest changes."
   ]
  },
  {
   "cell_type": "code",
   "execution_count": 9,
   "metadata": {},
   "outputs": [
    {
     "name": "stdout",
     "output_type": "stream",
     "text": [
      "Label Distribution\n",
      "------------------\n",
      "(5.0, 38.0]        6\n",
      "(38.0, 74.0]       5\n",
      "(74.0, 111.0]      5\n",
      "(111.0, 153.0]     6\n",
      "Total:            22\n",
      "\n",
      "\n",
      "Settings\n",
      "--------\n",
      "gap                                 20\n",
      "maximum_data                      None\n",
      "minimum_data                         5\n",
      "num_examples_per_instance           20\n",
      "target_column                      rul\n",
      "target_entity                engine_no\n",
      "target_type                   discrete\n",
      "window_size                       None\n",
      "\n",
      "\n",
      "Transforms\n",
      "----------\n",
      "1. bin\n",
      "  - bins:            4\n",
      "  - labels:       None\n",
      "  - precision:       0\n",
      "  - quantiles:    True\n",
      "  - right:        True\n",
      "\n"
     ]
    }
   ],
   "source": [
    "lt.describe()"
   ]
  },
  {
   "cell_type": "markdown",
   "metadata": {},
   "source": [
    "Look at the new label distribution and cumulative count across time."
   ]
  },
  {
   "cell_type": "code",
   "execution_count": 10,
   "metadata": {},
   "outputs": [
    {
     "data": {
      "image/png": "[encoded data removed]",
      "text/plain": [
       "<Figure size 432x576 with 2 Axes>"
      ]
     },
     "metadata": {
      "needs_background": "light"
     },
     "output_type": "display_data"
    }
   ],
   "source": [
    "fig, ax = subplots(nrows=2, ncols=1, figsize=(6, 8))\n",
    "lt.plot.distribution(ax=ax[0])\n",
    "lt.plot.count_by_time(ax=ax[1])\n",
    "fig.tight_layout(pad=2)"
   ]
  },
  {
   "cell_type": "markdown",
   "metadata": {
    "raw_mimetype": "text/restructuredtext"
   },
   "source": [
    "## Feature Engineering\n",
    "\n",
    "In the previous step, you generated the labels. The next step is to generate features.\n",
    "\n",
    "### Representing the Data\n",
    "\n",
    "Let’s start by representing the data with an EntitySet. That way, you can generate features based on the relational structure of the dataset. You currently have a single table of records where one engine can have many records. This one-to-many relationship can be represented by normalizing an engine dataframe. The same can be done for other one-to-many relationships. Because you want to make predictions based on the engine, you should use this engine dataframe as the target for generating features."
   ]
  },
  {
   "cell_type": "code",
   "execution_count": 11,
   "metadata": {},
   "outputs": [
    {
     "data": {
      "image/svg+xml": [
       "<?xml version=\"1.0\" encoding=\"UTF-8\" standalone=\"no\"?>\n",
       "<!DOCTYPE svg PUBLIC \"-//W3C//DTD SVG 1.1//EN\"\n",
       " \"http://www.w3.org/Graphics/SVG/1.1/DTD/svg11.dtd\">\n",
       "<!-- Generated by graphviz version 2.44.1 (20200629.0846)\n",
       " -->\n",
       "<!-- Title: observations Pages: 1 -->\n",
       "<svg width=\"518pt\" height=\"558pt\"\n",
       " viewBox=\"0.00 0.00 518.00 558.00\" xmlns=\"http://www.w3.org/2000/svg\" xmlns:xlink=\"http://www.w3.org/1999/xlink\">\n",
       "<g id=\"graph0\" class=\"graph\" transform=\"scale(1 1) rotate(0) translate(4 554)\">\n",
       "<title>observations</title>\n",
       "<polygon fill=\"white\" stroke=\"transparent\" points=\"-4,4 -4,-554 514,-554 514,4 -4,4\"/>\n",
       "<!-- records -->\n",
       "<g id=\"node1\" class=\"node\">\n",
       "<title>records</title>\n",
       "<polygon fill=\"none\" stroke=\"black\" points=\"144.5,-98.5 144.5,-549.5 365.5,-549.5 365.5,-98.5 144.5,-98.5\"/>\n",
       "<text text-anchor=\"middle\" x=\"255\" y=\"-534.3\" font-family=\"Times,serif\" font-size=\"14.00\">records (432 rows)</text>\n",
       "<polyline fill=\"none\" stroke=\"black\" points=\"144.5,-526.5 365.5,-526.5 \"/>\n",
       "<text text-anchor=\"start\" x=\"152.5\" y=\"-511.3\" font-family=\"Times,serif\" font-size=\"14.00\">id : Integer; index</text>\n",
       "<text text-anchor=\"start\" x=\"152.5\" y=\"-496.3\" font-family=\"Times,serif\" font-size=\"14.00\">engine_no : Integer; foreign_key</text>\n",
       "<text text-anchor=\"start\" x=\"152.5\" y=\"-481.3\" font-family=\"Times,serif\" font-size=\"14.00\">time_in_cycles : Integer; foreign_key</text>\n",
       "<text text-anchor=\"start\" x=\"152.5\" y=\"-466.3\" font-family=\"Times,serif\" font-size=\"14.00\">operational_setting_1 : Double</text>\n",
       "<text text-anchor=\"start\" x=\"152.5\" y=\"-451.3\" font-family=\"Times,serif\" font-size=\"14.00\">operational_setting_2 : Double</text>\n",
       "<text text-anchor=\"start\" x=\"152.5\" y=\"-436.3\" font-family=\"Times,serif\" font-size=\"14.00\">operational_setting_3 : Double</text>\n",
       "<text text-anchor=\"start\" x=\"152.5\" y=\"-421.3\" font-family=\"Times,serif\" font-size=\"14.00\">sensor_measurement_1 : Double</text>\n",
       "<text text-anchor=\"start\" x=\"152.5\" y=\"-406.3\" font-family=\"Times,serif\" font-size=\"14.00\">sensor_measurement_2 : Double</text>\n",
       "<text text-anchor=\"start\" x=\"152.5\" y=\"-391.3\" font-family=\"Times,serif\" font-size=\"14.00\">sensor_measurement_3 : Double</text>\n",
       "<text text-anchor=\"start\" x=\"152.5\" y=\"-376.3\" font-family=\"Times,serif\" font-size=\"14.00\">sensor_measurement_4 : Double</text>\n",
       "<text text-anchor=\"start\" x=\"152.5\" y=\"-361.3\" font-family=\"Times,serif\" font-size=\"14.00\">sensor_measurement_5 : Double</text>\n",
       "<text text-anchor=\"start\" x=\"152.5\" y=\"-346.3\" font-family=\"Times,serif\" font-size=\"14.00\">sensor_measurement_6 : Double</text>\n",
       "<text text-anchor=\"start\" x=\"152.5\" y=\"-331.3\" font-family=\"Times,serif\" font-size=\"14.00\">sensor_measurement_7 : Double</text>\n",
       "<text text-anchor=\"start\" x=\"152.5\" y=\"-316.3\" font-family=\"Times,serif\" font-size=\"14.00\">sensor_measurement_8 : Double</text>\n",
       "<text text-anchor=\"start\" x=\"152.5\" y=\"-301.3\" font-family=\"Times,serif\" font-size=\"14.00\">sensor_measurement_9 : Double</text>\n",
       "<text text-anchor=\"start\" x=\"152.5\" y=\"-286.3\" font-family=\"Times,serif\" font-size=\"14.00\">sensor_measurement_10 : Double</text>\n",
       "<text text-anchor=\"start\" x=\"152.5\" y=\"-271.3\" font-family=\"Times,serif\" font-size=\"14.00\">sensor_measurement_11 : Double</text>\n",
       "<text text-anchor=\"start\" x=\"152.5\" y=\"-256.3\" font-family=\"Times,serif\" font-size=\"14.00\">sensor_measurement_12 : Double</text>\n",
       "<text text-anchor=\"start\" x=\"152.5\" y=\"-241.3\" font-family=\"Times,serif\" font-size=\"14.00\">sensor_measurement_13 : Double</text>\n",
       "<text text-anchor=\"start\" x=\"152.5\" y=\"-226.3\" font-family=\"Times,serif\" font-size=\"14.00\">sensor_measurement_14 : Double</text>\n",
       "<text text-anchor=\"start\" x=\"152.5\" y=\"-211.3\" font-family=\"Times,serif\" font-size=\"14.00\">sensor_measurement_15 : Double</text>\n",
       "<text text-anchor=\"start\" x=\"152.5\" y=\"-196.3\" font-family=\"Times,serif\" font-size=\"14.00\">sensor_measurement_16 : Double</text>\n",
       "<text text-anchor=\"start\" x=\"152.5\" y=\"-181.3\" font-family=\"Times,serif\" font-size=\"14.00\">sensor_measurement_17 : Integer</text>\n",
       "<text text-anchor=\"start\" x=\"152.5\" y=\"-166.3\" font-family=\"Times,serif\" font-size=\"14.00\">sensor_measurement_18 : Integer</text>\n",
       "<text text-anchor=\"start\" x=\"152.5\" y=\"-151.3\" font-family=\"Times,serif\" font-size=\"14.00\">sensor_measurement_19 : Double</text>\n",
       "<text text-anchor=\"start\" x=\"152.5\" y=\"-136.3\" font-family=\"Times,serif\" font-size=\"14.00\">sensor_measurement_20 : Double</text>\n",
       "<text text-anchor=\"start\" x=\"152.5\" y=\"-121.3\" font-family=\"Times,serif\" font-size=\"14.00\">sensor_measurement_21 : Double</text>\n",
       "<text text-anchor=\"start\" x=\"152.5\" y=\"-106.3\" font-family=\"Times,serif\" font-size=\"14.00\">time : Datetime; time_index</text>\n",
       "</g>\n",
       "<!-- engines -->\n",
       "<g id=\"node2\" class=\"node\">\n",
       "<title>engines</title>\n",
       "<polygon fill=\"none\" stroke=\"black\" points=\"0,-0.5 0,-61.5 246,-61.5 246,-0.5 0,-0.5\"/>\n",
       "<text text-anchor=\"middle\" x=\"123\" y=\"-46.3\" font-family=\"Times,serif\" font-size=\"14.00\">engines (3 rows)</text>\n",
       "<polyline fill=\"none\" stroke=\"black\" points=\"0,-38.5 246,-38.5 \"/>\n",
       "<text text-anchor=\"start\" x=\"8\" y=\"-23.3\" font-family=\"Times,serif\" font-size=\"14.00\">engine_no : Integer; index</text>\n",
       "<text text-anchor=\"start\" x=\"8\" y=\"-8.3\" font-family=\"Times,serif\" font-size=\"14.00\">first_records_time : Datetime; time_index</text>\n",
       "</g>\n",
       "<!-- records&#45;&gt;engines -->\n",
       "<g id=\"edge1\" class=\"edge\">\n",
       "<title>records&#45;&gt;engines</title>\n",
       "<path fill=\"none\" stroke=\"black\" d=\"M195.25,-98.22C195.25,-98.22 195.25,-71.52 195.25,-71.52\"/>\n",
       "<polygon fill=\"black\" stroke=\"black\" points=\"198.75,-71.52 195.25,-61.52 191.75,-71.52 198.75,-71.52\"/>\n",
       "<text text-anchor=\"middle\" x=\"166.75\" y=\"-73.67\" font-family=\"Times,serif\" font-size=\"14.00\">engine_no</text>\n",
       "</g>\n",
       "<!-- cycles -->\n",
       "<g id=\"node3\" class=\"node\">\n",
       "<title>cycles</title>\n",
       "<polygon fill=\"none\" stroke=\"black\" points=\"264,-0.5 264,-61.5 510,-61.5 510,-0.5 264,-0.5\"/>\n",
       "<text text-anchor=\"middle\" x=\"387\" y=\"-46.3\" font-family=\"Times,serif\" font-size=\"14.00\">cycles (271 rows)</text>\n",
       "<polyline fill=\"none\" stroke=\"black\" points=\"264,-38.5 510,-38.5 \"/>\n",
       "<text text-anchor=\"start\" x=\"272\" y=\"-23.3\" font-family=\"Times,serif\" font-size=\"14.00\">time_in_cycles : Integer; index</text>\n",
       "<text text-anchor=\"start\" x=\"272\" y=\"-8.3\" font-family=\"Times,serif\" font-size=\"14.00\">first_records_time : Datetime; time_index</text>\n",
       "</g>\n",
       "<!-- records&#45;&gt;cycles -->\n",
       "<g id=\"edge2\" class=\"edge\">\n",
       "<title>records&#45;&gt;cycles</title>\n",
       "<path fill=\"none\" stroke=\"black\" d=\"M314.75,-98.22C314.75,-98.22 314.75,-71.52 314.75,-71.52\"/>\n",
       "<polygon fill=\"black\" stroke=\"black\" points=\"318.25,-71.52 314.75,-61.52 311.25,-71.52 318.25,-71.52\"/>\n",
       "<text text-anchor=\"middle\" x=\"273.25\" y=\"-73.67\" font-family=\"Times,serif\" font-size=\"14.00\">time_in_cycles</text>\n",
       "</g>\n",
       "</g>\n",
       "</svg>\n"
      ],
      "text/plain": [
       "<graphviz.graphs.Digraph at 0x7fac2862baf0>"
      ]
     },
     "execution_count": 11,
     "metadata": {},
     "output_type": "execute_result"
    }
   ],
   "source": [
    "es = ft.EntitySet('observations')\n",
    "\n",
    "es.add_dataframe(\n",
    "    dataframe=df.reset_index(),\n",
    "    dataframe_name='records',\n",
    "    index='id',\n",
    "    time_index='time',\n",
    ")\n",
    "\n",
    "es.normalize_dataframe(\n",
    "    base_dataframe_name='records',\n",
    "    new_dataframe_name='engines',\n",
    "    index='engine_no',\n",
    ")\n",
    "\n",
    "es.normalize_dataframe(\n",
    "    base_dataframe_name='records',\n",
    "    new_dataframe_name='cycles',\n",
    "    index='time_in_cycles',\n",
    ")\n",
    "\n",
    "es.plot()"
   ]
  },
  {
   "cell_type": "markdown",
   "metadata": {
    "raw_mimetype": "text/restructuredtext"
   },
   "source": [
    "### Calculating the Features\n",
    "\n",
    "Now you can generate features by using a method called Deep Feature Synthesis (DFS). That method automatically builds features by stacking and applying mathematical operations called primitives across relationships in an entityset. The more structured an entityset is, the better DFS can leverage the relationships to generate better features. Run DFS with these parameters:\n",
    "\n",
    "- `entityset` as the entity set we structured previously.\n",
    "- `target_entity` as the engine dataframe.\n",
    "- `cutoff_time` as the label times that we generated previously. The label values are appended to the feature matrix."
   ]
  },
  {
   "cell_type": "code",
   "execution_count": null,
   "metadata": {},
   "outputs": [],
   "source": [
    "fm, fd = ft.dfs(\n",
    "    entityset=es,\n",
    "    target_entity='engines',\n",
    "    agg_primitives=['sum'],\n",
    "    trans_primitives=[],\n",
    "    cutoff_time=lt,\n",
    "    cutoff_time_in_index=True,\n",
    "    include_cutoff_time=False,\n",
    "    verbose=False,\n",
    ")\n",
    "\n",
    "fm.head()"
   ]
  },
  {
   "cell_type": "markdown",
   "metadata": {
    "raw_mimetype": "text/restructuredtext"
   },
   "source": [
    "There are two outputs from DFS: a feature matrix and feature definitions. The feature matrix is a table that contains the feature values with the corresponding labels based on the cutoff times. Feature definitions are features in a list that can be stored and reused later to calculate the same set of features on future data.\n",
    "\n",
    "## Machine Learning\n",
    "\n",
    "In the previous steps, generate the labels and features. The final step is to build the machine learning pipeline.\n",
    "\n",
    "### Splitting the Data\n",
    "\n",
    "Start by extracting the labels from the feature matrix and splitting the data into a training set and a holdout set."
   ]
  },
  {
   "cell_type": "code",
   "execution_count": null,
   "metadata": {},
   "outputs": [],
   "source": [
    "fm.reset_index(drop=True, inplace=True)\n",
    "y = fm.pop('rul').cat.codes\n",
    "\n",
    "splits = evalml.preprocessing.split_data(\n",
    "    X=fm,\n",
    "    y=y,\n",
    "    test_size=0.2,\n",
    "    random_seed=2,\n",
    "    problem_type='multiclass',\n",
    ")\n",
    "\n",
    "X_train, X_holdout, y_train, y_holdout = splits"
   ]
  },
  {
   "cell_type": "markdown",
   "metadata": {
    "raw_mimetype": "text/restructuredtext"
   },
   "source": [
    "### Finding the Best Model\n",
    "\n",
    "Run a search on the training set to find the best machine learning model. During the search process, predictions from several different pipelines are evaluated to find the best pipeline."
   ]
  },
  {
   "cell_type": "code",
   "execution_count": null,
   "metadata": {},
   "outputs": [],
   "source": [
    "automl = evalml.AutoMLSearch(\n",
    "    X_train=X_train,\n",
    "    y_train=y_train,\n",
    "    problem_type='multiclass',\n",
    "    objective='f1 macro',\n",
    "    random_seed=0,\n",
    "    allowed_model_families=['catboost', 'random_forest'],\n",
    "    max_iterations=3,\n",
    ")\n",
    "\n",
    "automl.search(show_iteration_plot=False)"
   ]
  },
  {
   "cell_type": "markdown",
   "metadata": {},
   "source": [
    "Once the search is complete, you can print out information about the best pipeline found, like the parameters in each component."
   ]
  },
  {
   "cell_type": "code",
   "execution_count": null,
   "metadata": {},
   "outputs": [],
   "source": [
    "automl.best_pipeline.describe()\n",
    "automl.best_pipeline.graph()"
   ]
  },
  {
   "cell_type": "markdown",
   "metadata": {
    "raw_mimetype": "text/restructuredtext"
   },
   "source": [
    "Score the model performance by evaluating predictions on the holdout set."
   ]
  },
  {
   "cell_type": "code",
   "execution_count": null,
   "metadata": {},
   "outputs": [],
   "source": [
    "best_pipeline = automl.best_pipeline.fit(X_train, y_train)\n",
    "\n",
    "score = best_pipeline.score(\n",
    "    X=X_holdout,\n",
    "    y=y_holdout,\n",
    "    objectives=['f1 macro'],\n",
    ")\n",
    "\n",
    "dict(score)"
   ]
  },
  {
   "cell_type": "markdown",
   "metadata": {
    "raw_mimetype": "text/restructuredtext"
   },
   "source": [
    "From the pipeline, you can see which features are most important for predictions."
   ]
  },
  {
   "cell_type": "code",
   "execution_count": null,
   "metadata": {},
   "outputs": [],
   "source": [
    "feature_importance = best_pipeline.feature_importance\n",
    "feature_importance = feature_importance.set_index('feature')['importance']\n",
    "top_k = feature_importance.abs().sort_values().tail(20).index\n",
    "feature_importance[top_k].plot.barh(figsize=(8, 8), fontsize=14, width=.7);"
   ]
  },
  {
   "cell_type": "markdown",
   "metadata": {},
   "source": [
    "### Making Predictions\n",
    "\n",
    "You are ready to make predictions with our trained model. Start by calculating the same set of features by using the feature definitions. Use a cutoff time based on the latest information available in the dataset."
   ]
  },
  {
   "cell_type": "code",
   "execution_count": null,
   "metadata": {},
   "outputs": [],
   "source": [
    "fm = ft.calculate_feature_matrix(\n",
    "    features=fd,\n",
    "    entityset=es,\n",
    "    cutoff_time=ft.pd.Timestamp('2001-01-08'),\n",
    "    cutoff_time_in_index=True,\n",
    "    verbose=False,\n",
    ")\n",
    "\n",
    "fm.head()"
   ]
  },
  {
   "cell_type": "markdown",
   "metadata": {},
   "source": [
    "Now predict which one of the four ranges the RUL is in."
   ]
  },
  {
   "cell_type": "code",
   "execution_count": null,
   "metadata": {},
   "outputs": [],
   "source": [
    "y_pred = best_pipeline.predict(fm)\n",
    "y_pred = y_pred.values\n",
    "\n",
    "prediction = fm[[]]\n",
    "prediction['rul (estimate)'] = y_pred\n",
    "prediction.head()"
   ]
  },
  {
   "cell_type": "markdown",
   "metadata": {},
   "source": [
    "### Next Steps\n",
    "\n",
    "You have completed this tutorial. You can revisit each step to explore and fine-tune the model using different parameters until it is ready for production. For more information about how to work with the features produced by Featuretools, take a look at [the Featuretools documentation](https://docs.featuretools.com/). For more information about how to work with the models produced by EvalML, take a look at [the EvalML documentation](https://evalml.alteryx.com/)."
   ]
  }
 ],
 "metadata": {
  "celltoolbar": "Raw Cell Format",
  "jupytext": {
   "cell_metadata_filter": "-all",
   "main_language": "python",
   "notebook_metadata_filter": "-all"
  },
  "kernelspec": {
   "display_name": "Python 3 (ipykernel)",
   "language": "python",
   "name": "python3"
  },
  "language_info": {
   "codemirror_mode": {
    "name": "ipython",
    "version": 3
   },
   "file_extension": ".py",
   "mimetype": "text/x-python",
   "name": "python",
   "nbconvert_exporter": "python",
   "pygments_lexer": "ipython3",
   "version": "3.8.5"
  }
 },
 "nbformat": 4,
 "nbformat_minor": 4
}
