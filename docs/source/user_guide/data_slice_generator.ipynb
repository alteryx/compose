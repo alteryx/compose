{
 "cells": [
  {
   "cell_type": "raw",
   "metadata": {
    "raw_mimetype": "text/restructuredtext"
   },
   "source": [
    "====================\n",
    "Data Slice Generator\n",
    "====================\n",
    "The data slice generator is the underlying function used to generate data slices for the labeling function. If the label maker raises an error during the search or the output labels don't seem correct, you need to check the logic in the labeling function or inspect the data for inherent errors. The data slice generator can help identify those problems. You also want to use the generator during the development of your labeling function as a best practice. But it is an optional step and not required to generate labels.\n",
    "\n",
    "In this guide, use the data slice generator to inspect data slices and apply a labeling function. To get started, load a mock dataset of transactions and sample the data to see how the transactions look."
   ]
  },
  {
   "cell_type": "code",
   "execution_count": null,
   "metadata": {},
   "outputs": [],
   "source": [
    "import composeml as cp"
   ]
  },
  {
   "cell_type": "code",
   "execution_count": null,
   "metadata": {},
   "outputs": [],
   "source": [
    "df = cp.demos.load_transactions()\n",
    "df = df[df.columns[:7]]\n",
    "df.sample(n=5, random_state=0)"
   ]
  },
  {
   "cell_type": "raw",
   "metadata": {
    "raw_mimetype": "text/restructuredtext"
   },
   "source": [
    "Labeling Function\n",
    "=================\n",
    "Define a labeling function that returns how much a customer spent given a slice of transactions."
   ]
  },
  {
   "cell_type": "code",
   "execution_count": null,
   "metadata": {},
   "outputs": [],
   "source": [
    "def total_spent(df):\n",
    "    return df[\"amount\"].sum()"
   ]
  },
  {
   "cell_type": "raw",
   "metadata": {
    "raw_mimetype": "text/restructuredtext"
   },
   "source": [
    ".. currentmodule:: composeml\n",
    "\n",
    "Data Slices\n",
    "===========\n",
    "The :meth:`LabelMaker.slice` method creates the data slice generator. The parameters of this method can be passed directly to :meth:`LabelMaker.search` to generate the labels. In the following sections, we explain how to use the data slice generator to make data slices consecutive, overlap, or spread out.\n",
    "\n",
    ".. seealso::\n",
    "    For a conceptual explanation of the process, see :ref:`Main Concepts <main-concepts>`.\n",
    "\n",
    "Consecutive\n",
    "-----------\n",
    "When the gap size is equal to the window size, the data slices are consecutive. In other words, the data slices do not overlap and are not spread out (in other words, don’t skip any data). This is the default value for the gap size. To demonstrate this example, generate data slices using these parameters.\n",
    "\n",
    "To start, create a label maker with the 2-hour window size."
   ]
  },
  {
   "cell_type": "code",
   "execution_count": null,
   "metadata": {},
   "outputs": [],
   "source": [
    "lm = cp.LabelMaker(\n",
    "    target_dataframe_index=\"customer_id\",\n",
    "    time_index=\"transaction_time\",\n",
    "    labeling_function=total_spent,\n",
    "    window_size=\"2h\",\n",
    ")"
   ]
  },
  {
   "cell_type": "raw",
   "metadata": {
    "raw_mimetype": "text/restructuredtext"
   },
   "source": [
    "Next, create a data slice generator with the 2-hour gap size. The default value for the gap size is the window size.\n",
    "\n",
    ".. tip::\n",
    "   You can directly set :code:`minimum_data` as the first cutoff time."
   ]
  },
  {
   "cell_type": "code",
   "execution_count": null,
   "metadata": {},
   "outputs": [],
   "source": [
    "slices = lm.slice(\n",
    "    df.sort_values(\"transaction_time\"),\n",
    "    num_examples_per_instance=-1,\n",
    "    minimum_data=\"2014-01-01\",\n",
    ")"
   ]
  },
  {
   "cell_type": "raw",
   "metadata": {
    "raw_mimetype": "text/restructuredtext"
   },
   "source": [
    "Consecutive - Data Slice #1\n",
    "~~~~~~~~~~~~~~~~~~~~~~~~~~~\n",
    "By printing this data slice, you can see that that it is the first slice of transactions (denoted by the :code:`slice_number`) for customer 1. This data slice contains all of the customer’s transactions that occurred within the 2-hour window between :code:`2014-01-01 00:00:00` and :code:`2014-01-01 02:00:00`. You can also see that the 2-hour gap aligns the cutoff times to the window, so the next data slice starts at the end of this data slice."
   ]
  },
  {
   "cell_type": "code",
   "execution_count": null,
   "metadata": {},
   "outputs": [],
   "source": [
    "ds = next(slices)\n",
    "print(ds.context)\n",
    "ds"
   ]
  },
  {
   "cell_type": "raw",
   "metadata": {
    "raw_mimetype": "text/restructuredtext"
   },
   "source": [
    "Apply the labeling function for the total amount spent on this data slice."
   ]
  },
  {
   "cell_type": "code",
   "execution_count": null,
   "metadata": {},
   "outputs": [],
   "source": [
    "total_spent(ds)"
   ]
  },
  {
   "cell_type": "raw",
   "metadata": {
    "raw_mimetype": "text/restructuredtext"
   },
   "source": [
    "Consecutive - Data Slice #2\n",
    "~~~~~~~~~~~~~~~~~~~~~~~~~~~\n",
    "In the second data slice, you can see the next 2 consecutive hours of transactions between :code:`2014-01-01 02:00:00` and :code:`2014-01-01 04:00:00`. This is useful for generating labels that consecutively process the data only once."
   ]
  },
  {
   "cell_type": "code",
   "execution_count": null,
   "metadata": {},
   "outputs": [],
   "source": [
    "ds = next(slices)\n",
    "print(ds.context)\n",
    "ds"
   ]
  },
  {
   "cell_type": "raw",
   "metadata": {
    "raw_mimetype": "text/restructuredtext"
   },
   "source": [
    "Apply our labeling function for the total amount spent on this data slice."
   ]
  },
  {
   "cell_type": "code",
   "execution_count": null,
   "metadata": {},
   "outputs": [],
   "source": [
    "total_spent(ds)"
   ]
  },
  {
   "cell_type": "raw",
   "metadata": {
    "raw_mimetype": "text/restructuredtext"
   },
   "source": [
    "Overlap\n",
    "-------\n",
    "When the the gap size is less than the window size, the data slices overlap. You can use this for rolling window based labeling processes. The amount of overlap is the difference between the window and gap size. For example, if the window size is 3 hours and the gap size is 1 hour, then 2 hours will overlap on each data slice. To demonstrate this example, generate data slices using these parameters.\n",
    "\n",
    "To start, create a label maker with the 3-hour window size."
   ]
  },
  {
   "cell_type": "code",
   "execution_count": null,
   "metadata": {},
   "outputs": [],
   "source": [
    "lm = cp.LabelMaker(\n",
    "    target_dataframe_index=\"customer_id\",\n",
    "    time_index=\"transaction_time\",\n",
    "    labeling_function=total_spent,\n",
    "    window_size=\"3h\",\n",
    ")"
   ]
  },
  {
   "cell_type": "raw",
   "metadata": {
    "raw_mimetype": "text/restructuredtext"
   },
   "source": [
    "Next, create a data slice generator with the 1-hour gap size."
   ]
  },
  {
   "cell_type": "code",
   "execution_count": null,
   "metadata": {},
   "outputs": [],
   "source": [
    "slices = lm.slice(\n",
    "    df.sort_values(\"transaction_time\"),\n",
    "    num_examples_per_instance=-1,\n",
    "    minimum_data=\"2014-01-01\",\n",
    "    gap=\"1h\",\n",
    ")"
   ]
  },
  {
   "cell_type": "raw",
   "metadata": {
    "raw_mimetype": "text/restructuredtext"
   },
   "source": [
    "Overlap - Data Slice #1\n",
    "~~~~~~~~~~~~~~~~~~~~~~~\n",
    "The first data slice contains all of the customer’s transactions that occurred within the 3-hour window between :code:`2014-01-01 00:00:00` and :code:`2014-01-01 03:00:00`. The 1-hour gap spaces apart the cutoff time of this data slice at :code:`2014-01-01 00:00:00` from the cutoff time of the next data slice at :code:`2014-01-01 01:00:00`."
   ]
  },
  {
   "cell_type": "code",
   "execution_count": null,
   "metadata": {},
   "outputs": [],
   "source": [
    "ds = next(slices)\n",
    "print(ds.context)\n",
    "ds"
   ]
  },
  {
   "cell_type": "raw",
   "metadata": {
    "raw_mimetype": "text/restructuredtext"
   },
   "source": [
    "Apply our labeling function for the total spent on this data slice."
   ]
  },
  {
   "cell_type": "code",
   "execution_count": null,
   "metadata": {},
   "outputs": [],
   "source": [
    "total_spent(ds)"
   ]
  },
  {
   "cell_type": "raw",
   "metadata": {
    "raw_mimetype": "text/restructuredtext"
   },
   "source": [
    "Overlap - Data Slice #2\n",
    "~~~~~~~~~~~~~~~~~~~~~~~\n",
    "In the second data slice, there is a 2-hour overlap on the transactions that occurred between :code:`2014-01-01 01:00:00` and :code:`2014-01-01 03:00:00`. By adjusting the gap size, you can set the precise amount of overlap in the data slices. That is useful for generating labels with specific overlap."
   ]
  },
  {
   "cell_type": "code",
   "execution_count": null,
   "metadata": {},
   "outputs": [],
   "source": [
    "ds = next(slices)\n",
    "print(ds.context)\n",
    "ds"
   ]
  },
  {
   "cell_type": "raw",
   "metadata": {
    "raw_mimetype": "text/restructuredtext"
   },
   "source": [
    "Apply our labeling function for the total spent on this data slice."
   ]
  },
  {
   "cell_type": "code",
   "execution_count": null,
   "metadata": {},
   "outputs": [],
   "source": [
    "total_spent(ds)"
   ]
  },
  {
   "cell_type": "raw",
   "metadata": {
    "raw_mimetype": "text/restructuredtext"
   },
   "source": [
    "Spread Out\n",
    "----------\n",
    "When the the gap size is greater than the window size, there is data in-between data slices that is skipped. You can use this for labeling data at specific intervals of time. The amount of data skipped is the difference between the gap and window size. For example, if the gap size is 3 hours and the window size is 1 hour, then 2 hours of data will be skipped in-between data slices. To demonstrate this example, generate data slices using these parameters.\n",
    "\n",
    "To start, create a label maker with the 1-hour window size."
   ]
  },
  {
   "cell_type": "code",
   "execution_count": null,
   "metadata": {},
   "outputs": [],
   "source": [
    "lm = cp.LabelMaker(\n",
    "    target_dataframe_index=\"customer_id\",\n",
    "    time_index=\"transaction_time\",\n",
    "    labeling_function=total_spent,\n",
    "    window_size=\"1h\",\n",
    ")"
   ]
  },
  {
   "cell_type": "raw",
   "metadata": {
    "raw_mimetype": "text/restructuredtext"
   },
   "source": [
    "Next, create a data slice generator with the 3-hour gap size."
   ]
  },
  {
   "cell_type": "code",
   "execution_count": null,
   "metadata": {},
   "outputs": [],
   "source": [
    "slices = lm.slice(\n",
    "    df.sort_values(\"transaction_time\"),\n",
    "    num_examples_per_instance=-1,\n",
    "    minimum_data=\"2014-01-01\",\n",
    "    gap=\"3h\",\n",
    ")"
   ]
  },
  {
   "cell_type": "raw",
   "metadata": {
    "raw_mimetype": "text/restructuredtext"
   },
   "source": [
    "Spread Out - Data Slice #1\n",
    "~~~~~~~~~~~~~~~~~~~~~~~~~~\n",
    "The first data slice contains all of the customer’s transactions that occurred within the 1-hour window between :code:`2014-01-01 00:00:00` and :code:`2014-01-01 01:00:00`. The 3-hour gap spaces apart the cutoff time of this data slice at :code:`2014-01-01 00:00:00` from the cutoff time of the next data slice at :code:`2014-01-01 03:00:00`."
   ]
  },
  {
   "cell_type": "code",
   "execution_count": null,
   "metadata": {},
   "outputs": [],
   "source": [
    "ds = next(slices)\n",
    "print(ds.context)\n",
    "ds"
   ]
  },
  {
   "cell_type": "raw",
   "metadata": {
    "raw_mimetype": "text/restructuredtext"
   },
   "source": [
    "Apply our labeling function for the total spent on this data slice."
   ]
  },
  {
   "cell_type": "code",
   "execution_count": null,
   "metadata": {},
   "outputs": [],
   "source": [
    "total_spent(ds)"
   ]
  },
  {
   "cell_type": "raw",
   "metadata": {
    "raw_mimetype": "text/restructuredtext"
   },
   "source": [
    "Spread Out - Data Slice #2\n",
    "~~~~~~~~~~~~~~~~~~~~~~~~~~\n",
    "In the second data slice, you can see that 2 hours of transactions were skipped between :code:`2014-01-01 01:00:00` and :code:`2014-01-01 03:00:00`. By adjusting the gap size, you can set the precise amount of data to skip in-between data slices. That is useful for generating labels that target specific portions of a dataset."
   ]
  },
  {
   "cell_type": "code",
   "execution_count": null,
   "metadata": {},
   "outputs": [],
   "source": [
    "ds = next(slices)\n",
    "print(ds.context)\n",
    "ds"
   ]
  },
  {
   "cell_type": "raw",
   "metadata": {
    "raw_mimetype": "text/restructuredtext"
   },
   "source": [
    "Apply the labeling function for the total spent on this data slice."
   ]
  },
  {
   "cell_type": "code",
   "execution_count": null,
   "metadata": {},
   "outputs": [],
   "source": [
    "total_spent(ds)"
   ]
  },
  {
   "cell_type": "raw",
   "metadata": {
    "raw_mimetype": "text/restructuredtext"
   },
   "source": [
    ".. _data-slice-context:\n",
    "\n",
    "Data Slice Context\n",
    "==================\n",
    "Each data slice has a :code:`context` attribute to access its metadata. That is useful for integrating the context with the logic in the labeling function."
   ]
  },
  {
   "cell_type": "code",
   "execution_count": null,
   "metadata": {},
   "outputs": [],
   "source": [
    "vars(ds.context)"
   ]
  }
 ],
 "metadata": {
  "celltoolbar": "Raw Cell Format",
  "jupytext": {
   "cell_metadata_filter": "-all",
   "notebook_metadata_filter": "-all"
  },
  "kernelspec": {
   "display_name": "Python 3 (ipykernel)",
   "language": "python",
   "name": "python3"
  },
  "language_info": {
   "codemirror_mode": {
    "name": "ipython",
    "version": 3
   },
   "file_extension": ".py",
   "mimetype": "text/x-python",
   "name": "python",
   "nbconvert_exporter": "python",
   "pygments_lexer": "ipython3",
   "version": "3.8.5"
  }
 },
 "nbformat": 4,
 "nbformat_minor": 4
}
