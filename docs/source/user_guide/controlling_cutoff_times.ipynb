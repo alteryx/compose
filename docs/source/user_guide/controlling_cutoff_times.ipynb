{
 "cells": [
  {
   "cell_type": "markdown",
   "id": "fcfef470",
   "metadata": {},
   "source": [
    "# Controlling cutoff times in a label search\n",
    "\n",
    "The start time of the labeling process is known as the first cutoff time. You need data that exists before the first cutoff time to build features. You can use `minimum_data` in a label search to directly define the first cutoff time or the amount of data needed before the first cutoff time. Similarly, you can use `maximum_data` to directly define the last cutoff time. These parameters let you control when the labeling process starts and finishes."
   ]
  },
  {
   "cell_type": "code",
   "execution_count": null,
   "id": "3cc3d374",
   "metadata": {
    "nbsphinx": "hidden"
   },
   "outputs": [],
   "source": [
    "from io import StringIO\n",
    "from pandas import read_csv\n",
    "\n",
    "transaction_data = \"\"\"\n",
    "customer_id,transaction_time,amount\n",
    "3,2021-03-31 18:51:27,52.29\n",
    "5,2021-03-22 06:56:05,33.81\n",
    "5,2021-03-20 23:45:21,76.3\n",
    "2,2021-03-30 10:06:59,32.72\n",
    "1,2021-02-17 11:01:22,59.16\n",
    "2,2021-01-16 10:59:44,56.33\n",
    "3,2021-01-12 07:53:00,61.84\n",
    "4,2021-03-15 21:00:25,34.91\n",
    "2,2021-01-26 10:01:37,69.88\n",
    "2,2021-02-07 05:42:14,49.7\n",
    "2,2021-03-15 16:35:16,41.08\n",
    "4,2021-02-06 13:17:19,32.34\n",
    "2,2021-02-21 09:42:48,86.15\n",
    "4,2021-03-24 00:40:24,97.08\n",
    "4,2021-03-23 04:27:47,58.81\n",
    "4,2021-02-23 13:32:22,59.67\n",
    "4,2021-02-10 03:46:16,96.36\n",
    "3,2021-03-13 09:24:54,25.4\n",
    "1,2021-01-27 13:58:38,26.15\n",
    "3,2021-02-23 03:26:58,28.96\n",
    "1,2021-01-05 09:55:18,24.6\n",
    "1,2021-03-09 07:14:27,49.64\n",
    "1,2021-02-10 23:27:37,31.29\n",
    "2,2021-01-23 18:19:05,42.88\n",
    "1,2021-01-05 22:50:52,58.58\n",
    "\"\"\"\n",
    "\n",
    "created_account_data = \"\"\"\n",
    "customer_id,created_account\n",
    "1,2021-01-10\n",
    "2,2021-02-12\n",
    "3,2021-01-23\n",
    "4,2021-02-13\n",
    "5,2021-01-24\n",
    "\"\"\"\n",
    "\n",
    "with StringIO(transaction_data) as data:\n",
    "    transactions = read_csv(data, parse_dates=[\"transaction_time\"])\n",
    "\n",
    "with StringIO(created_account_data) as data:\n",
    "    created_account = read_csv(\n",
    "        data, parse_dates=[\"created_account\"], index_col=\"customer_id\"\n",
    "    )[\"created_account\"]"
   ]
  },
  {
   "cell_type": "markdown",
   "id": "a49db5e1",
   "metadata": {},
   "source": [
    "## Labeling customer transactions\n",
    "\n",
    "For example, suppose you have customer transactions from the first quarter of 2021."
   ]
  },
  {
   "cell_type": "code",
   "execution_count": null,
   "id": "cf63bed2",
   "metadata": {},
   "outputs": [],
   "source": [
    "import composeml as cp\n",
    "\n",
    "transactions.head()"
   ]
  },
  {
   "cell_type": "markdown",
   "id": "d6d19fff",
   "metadata": {},
   "source": [
    "You want to calculate the total amount that customers spent over two weeks *only for February*. Start by defining a labeling function that sums up the transaction amount. Then, create a label maker that will label data over two weeks using the transaction time."
   ]
  },
  {
   "cell_type": "code",
   "execution_count": null,
   "id": "6cb2d34a",
   "metadata": {},
   "outputs": [],
   "source": [
    "def total_amount(ds):\n",
    "    return ds.amount.sum()\n",
    "\n",
    "\n",
    "lm = cp.LabelMaker(\n",
    "    labeling_function=total_amount,\n",
    "    time_index=\"transaction_time\",\n",
    "    target_dataframe_index=\"customer_id\",\n",
    "    window_size=\"14d\",\n",
    ")"
   ]
  },
  {
   "cell_type": "markdown",
   "id": "dee27ce4",
   "metadata": {},
   "source": [
    "### Defining the first and last cutoff time\n",
    "\n",
    "Now, you can use `minimum_data` in the label search to directly set the 1st of February as the first cutoff time. Since you are labeling data over two weeks, you can define the last cutoff time as the 15th."
   ]
  },
  {
   "cell_type": "code",
   "execution_count": null,
   "id": "953ee7c3",
   "metadata": {},
   "outputs": [],
   "source": [
    "lt = lm.search(\n",
    "    df=transactions.sort_values(\"transaction_time\"),\n",
    "    num_examples_per_instance=-1,\n",
    "    minimum_data=\"2021-02-01\",\n",
    "    maximum_data=\"2021-02-15\",\n",
    "    drop_empty=False,\n",
    "    verbose=False,\n",
    ")\n",
    "\n",
    "lt"
   ]
  },
  {
   "cell_type": "markdown",
   "id": "c23c02ae",
   "metadata": {},
   "source": [
    "### Changing the first cutoff time for each customer\n",
    "\n",
    "Suppose you have a lookup table that contains the dates when customers signed up and created their accounts. Now, you are interested in calculating the total amount that customers spent over two weeks *only after creating an account*."
   ]
  },
  {
   "cell_type": "code",
   "execution_count": null,
   "id": "5fb84606",
   "metadata": {},
   "outputs": [],
   "source": [
    "created_account"
   ]
  },
  {
   "cell_type": "markdown",
   "id": "4edf1235",
   "metadata": {},
   "source": [
    "You can use the column of sign up dates directly as the first cutoff times in the labeling process. Each customer should only have one cutoff time."
   ]
  },
  {
   "cell_type": "code",
   "execution_count": null,
   "id": "8463785d",
   "metadata": {},
   "outputs": [],
   "source": [
    "lt = lm.search(\n",
    "    df=transactions.sort_values(\"transaction_time\"),\n",
    "    num_examples_per_instance=-1,\n",
    "    minimum_data=created_account,\n",
    "    drop_empty=False,\n",
    "    verbose=False,\n",
    ")\n",
    "\n",
    "lt.head(10)"
   ]
  },
  {
   "cell_type": "raw",
   "id": "cc91d60c",
   "metadata": {
    "raw_mimetype": "text/restructuredtext"
   },
   "source": [
    "For more details on labeling data over specific periods, you can look at the guide on :doc:`generating data slices </user_guide/data_slice_generator>`."
   ]
  }
 ],
 "metadata": {
  "celltoolbar": "Edit Metadata",
  "kernelspec": {
   "display_name": "Python 3 (ipykernel)",
   "language": "python",
   "name": "python3"
  },
  "language_info": {
   "codemirror_mode": {
    "name": "ipython",
    "version": 3
   },
   "file_extension": ".py",
   "mimetype": "text/x-python",
   "name": "python",
   "nbconvert_exporter": "python",
   "pygments_lexer": "ipython3",
   "version": "3.8.5"
  }
 },
 "nbformat": 4,
 "nbformat_minor": 5
}
